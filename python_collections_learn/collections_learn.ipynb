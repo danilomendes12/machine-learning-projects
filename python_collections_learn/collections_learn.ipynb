{
 "cells": [
  {
   "cell_type": "markdown",
   "source": [
    "# 1 - Lists"
   ],
   "metadata": {
    "collapsed": false
   },
   "id": "fb34a3cda321ef47"
  },
  {
   "cell_type": "code",
   "execution_count": 147,
   "id": "initial_id",
   "metadata": {
    "collapsed": true,
    "ExecuteTime": {
     "end_time": "2024-05-12T00:06:29.765168Z",
     "start_time": "2024-05-12T00:06:29.745462Z"
    }
   },
   "outputs": [
    {
     "name": "stdout",
     "output_type": "stream",
     "text": [
      "<class 'list'>\n",
      "<class 'list'>\n"
     ]
    }
   ],
   "source": [
    "list1 = [1, 2, 3, 4, 5]\n",
    "list2 = [1,2, True, 'a', 3.14, [1, 2, 3]]\n",
    "print(type(list1))\n",
    "print(type(list2))"
   ]
  },
  {
   "cell_type": "code",
   "outputs": [
    {
     "name": "stdout",
     "output_type": "stream",
     "text": [
      "{1, 2, 3, 4, 5}\n"
     ]
    }
   ],
   "source": [
    "list_with_duplicates = [1,2,2,3,3,4,5]\n",
    "set_without_duplicates = set(list_with_duplicates)\n",
    "print(set_without_duplicates)"
   ],
   "metadata": {
    "collapsed": false,
    "ExecuteTime": {
     "end_time": "2024-05-12T00:06:29.789076Z",
     "start_time": "2024-05-12T00:06:29.767398Z"
    }
   },
   "id": "18171c4ba8c75d3",
   "execution_count": 148
  },
  {
   "cell_type": "code",
   "outputs": [
    {
     "name": "stdout",
     "output_type": "stream",
     "text": [
      "1\n",
      "<class 'TabError'>\n"
     ]
    }
   ],
   "source": [
    "list_to_access = [1, 2, 2, TabError, 3, 3, 4, 5]\n",
    "print(list_to_access[0])\n",
    "print(list_to_access[3])"
   ],
   "metadata": {
    "collapsed": false,
    "ExecuteTime": {
     "end_time": "2024-05-12T00:06:29.789606Z",
     "start_time": "2024-05-12T00:06:29.770977Z"
    }
   },
   "id": "1cda6f0b2bcdb288",
   "execution_count": 149
  },
  {
   "cell_type": "code",
   "outputs": [
    {
     "name": "stdout",
     "output_type": "stream",
     "text": [
      "[1, 2, 2]\n",
      "[<class 'TabError'>, 3, 3, 4, 5]\n",
      "[2, 2, <class 'TabError'>]\n"
     ]
    }
   ],
   "source": [
    "slice_list = list_to_access[1:4]\n",
    "list_end = list_to_access[3:]\n",
    "list_start = list_to_access[:3]\n",
    "\n",
    "print(list_start)\n",
    "print(list_end)\n",
    "print(slice_list)"
   ],
   "metadata": {
    "collapsed": false,
    "ExecuteTime": {
     "end_time": "2024-05-12T00:06:29.789993Z",
     "start_time": "2024-05-12T00:06:29.774315Z"
    }
   },
   "id": "125badd468a2a410",
   "execution_count": 150
  },
  {
   "cell_type": "code",
   "outputs": [
    {
     "name": "stdout",
     "output_type": "stream",
     "text": [
      "[1, 2, 3, 4, 5]\n"
     ]
    }
   ],
   "source": [
    "list_to_iterate = [1, 2, 3, 4, 5]\n",
    "list_to_iterate.append(6)\n",
    "\n",
    "list_to_iterate.pop(5)\n",
    "print(list_to_iterate)"
   ],
   "metadata": {
    "collapsed": false,
    "ExecuteTime": {
     "end_time": "2024-05-12T00:06:29.831010Z",
     "start_time": "2024-05-12T00:06:29.790990Z"
    }
   },
   "id": "ba984a2e09741d38",
   "execution_count": 151
  },
  {
   "cell_type": "code",
   "outputs": [
    {
     "name": "stdout",
     "output_type": "stream",
     "text": [
      "[3, 4, 5]\n",
      "[[3, 3, 3], [4, 4, 4], [5, 5, 5], [6, 6, 6]]\n"
     ]
    }
   ],
   "source": [
    "list_to_iterate = [1, 2, 3, 4, 5]\n",
    "\n",
    "list_with_big_numbers = [value for value in list_to_iterate if value >= 3]\n",
    "print(list_with_big_numbers)\n",
    "\n",
    "d_list = [[value + 1 for j in range(3)] for value in list_to_iterate if value != 1]\n",
    "print(d_list)"
   ],
   "metadata": {
    "collapsed": false,
    "ExecuteTime": {
     "end_time": "2024-05-16T11:19:33.454309Z",
     "start_time": "2024-05-16T11:19:33.444590Z"
    }
   },
   "id": "a8b659aff5ab71a8",
   "execution_count": 2
  },
  {
   "cell_type": "markdown",
   "source": [
    "# 2 - Tuples"
   ],
   "metadata": {
    "collapsed": false
   },
   "id": "6c3b3efd384ceafd"
  },
  {
   "cell_type": "code",
   "outputs": [
    {
     "name": "stdout",
     "output_type": "stream",
     "text": [
      "<class 'tuple'>\n",
      "<class 'tuple'>\n"
     ]
    }
   ],
   "source": [
    "tuple1 = (1, 2)\n",
    "tuple2 = (1,2, True, 'a', 3.14, [1, 2, 3])\n",
    "\n",
    "print(type(tuple1))\n",
    "print(type(tuple2))"
   ],
   "metadata": {
    "collapsed": false,
    "ExecuteTime": {
     "end_time": "2024-05-12T00:06:29.866777Z",
     "start_time": "2024-05-12T00:06:29.849725Z"
    }
   },
   "id": "8ebd88f48837299b",
   "execution_count": 153
  },
  {
   "cell_type": "code",
   "outputs": [
    {
     "name": "stdout",
     "output_type": "stream",
     "text": [
      "(1, 2, 3, 4, 5)\n",
      "{1, 2, 3, 4, 5}\n"
     ]
    }
   ],
   "source": [
    "tuple3 = tuple(list1)\n",
    "set3 = set(list1)\n",
    "print(tuple3)\n",
    "print(set3)"
   ],
   "metadata": {
    "collapsed": false,
    "ExecuteTime": {
     "end_time": "2024-05-12T00:06:29.888898Z",
     "start_time": "2024-05-12T00:06:29.869831Z"
    }
   },
   "id": "bea3fcc4c22fbf14",
   "execution_count": 154
  },
  {
   "cell_type": "code",
   "outputs": [
    {
     "name": "stdout",
     "output_type": "stream",
     "text": [
      "1\n",
      "2\n",
      "(2, 2, <class 'TabError'>)\n"
     ]
    }
   ],
   "source": [
    "tuple_to_access = (1, 2, 2, TabError, 3, 3, 4, 5)\n",
    "tuple_slice = tuple_to_access[1:4]\n",
    "\n",
    "print(tuple_to_access[0])\n",
    "print(tuple_to_access[2])\n",
    "print(tuple_slice)"
   ],
   "metadata": {
    "collapsed": false,
    "ExecuteTime": {
     "end_time": "2024-05-12T00:06:29.889370Z",
     "start_time": "2024-05-12T00:06:29.872596Z"
    }
   },
   "id": "caa1f8423c2308f6",
   "execution_count": 155
  },
  {
   "cell_type": "markdown",
   "source": [
    "# 3 - Sets"
   ],
   "metadata": {
    "collapsed": false
   },
   "id": "f76cb90262c22342"
  },
  {
   "cell_type": "code",
   "outputs": [
    {
     "name": "stdout",
     "output_type": "stream",
     "text": [
      "<class 'set'>\n",
      "<class 'set'>\n"
     ]
    }
   ],
   "source": [
    "set1 = {1, 2, 3}\n",
    "set2 = {1,2, True, 'a', 3.14, (1, 2, 3)}\n",
    "\n",
    "print(type(set1))\n",
    "print(type(set2))"
   ],
   "metadata": {
    "collapsed": false,
    "ExecuteTime": {
     "end_time": "2024-05-12T00:06:29.912605Z",
     "start_time": "2024-05-12T00:06:29.890273Z"
    }
   },
   "id": "369e19cf1d53cad7",
   "execution_count": 156
  },
  {
   "cell_type": "code",
   "outputs": [
    {
     "name": "stdout",
     "output_type": "stream",
     "text": [
      "1\n"
     ]
    }
   ],
   "source": [
    "set_to_access = {1, 2, 2, TabError, 3, 3, 4, 5}\n",
    "print(set_to_access.pop())"
   ],
   "metadata": {
    "collapsed": false,
    "ExecuteTime": {
     "end_time": "2024-05-12T00:06:29.924200Z",
     "start_time": "2024-05-12T00:06:29.896103Z"
    }
   },
   "id": "c021396f632e663a",
   "execution_count": 157
  },
  {
   "cell_type": "markdown",
   "source": [
    "# 4 - Dictionaries"
   ],
   "metadata": {
    "collapsed": false
   },
   "id": "7ba95b4746b22d46"
  },
  {
   "cell_type": "code",
   "outputs": [
    {
     "name": "stdout",
     "output_type": "stream",
     "text": [
      "<class 'dict'>\n",
      "<class 'dict'>\n"
     ]
    }
   ],
   "source": [
    "dict1 = {'a': 1, 'b': 2, 3: 'c'}\n",
    "dict2 = {1: 'a', 2: 'b', 'a': 3}\n",
    "\n",
    "print(type(dict1))\n",
    "print(type(dict2))"
   ],
   "metadata": {
    "collapsed": false,
    "ExecuteTime": {
     "end_time": "2024-05-12T00:06:29.965962Z",
     "start_time": "2024-05-12T00:06:29.921508Z"
    }
   },
   "id": "91609e3c3d0baa04",
   "execution_count": 158
  },
  {
   "cell_type": "code",
   "outputs": [
    {
     "name": "stdout",
     "output_type": "stream",
     "text": [
      "1\n",
      "dict_keys(['a', 'b', 'c'])\n",
      "dict_values([1, 2, 3])\n",
      "dict_items([('a', 1), ('b', 2), ('c', 3)])\n"
     ]
    }
   ],
   "source": [
    "dict_to_access = {'a': 1, 'b': 2, 'c': 3}\n",
    "print(dict_to_access['a'])\n",
    "print(dict_to_access.keys())\n",
    "print(dict_to_access.values())\n",
    "print(dict_to_access.items())"
   ],
   "metadata": {
    "collapsed": false,
    "ExecuteTime": {
     "end_time": "2024-05-12T00:06:29.971241Z",
     "start_time": "2024-05-12T00:06:29.964224Z"
    }
   },
   "id": "56f5311984351def",
   "execution_count": 159
  },
  {
   "cell_type": "code",
   "outputs": [
    {
     "name": "stdout",
     "output_type": "stream",
     "text": [
      "{'a': 1, 'b': 4, 'c': 3}\n"
     ]
    }
   ],
   "source": [
    "dict_to_change_value = {'a': 1, 'b': 2, 'c': 3}\n",
    "dict_to_change_value['b'] = 4\n",
    "print(dict_to_change_value)"
   ],
   "metadata": {
    "collapsed": false,
    "ExecuteTime": {
     "end_time": "2024-05-12T00:06:29.977762Z",
     "start_time": "2024-05-12T00:06:29.973141Z"
    }
   },
   "id": "46fe5fa6ac332676",
   "execution_count": 160
  },
  {
   "cell_type": "code",
   "outputs": [
    {
     "name": "stdout",
     "output_type": "stream",
     "text": [
      "{'a': 1, 'c': 3, 'd': 2}\n"
     ]
    }
   ],
   "source": [
    "# how to change key in dictionary\n",
    "dict_to_change_key = {'a': 1, 'b': 2, 'c': 3}\n",
    "dict_to_change_key['d'] = dict_to_change_key.pop('b')\n",
    "print(dict_to_change_key)"
   ],
   "metadata": {
    "collapsed": false,
    "ExecuteTime": {
     "end_time": "2024-05-12T00:06:29.982261Z",
     "start_time": "2024-05-12T00:06:29.976413Z"
    }
   },
   "id": "b2c7675dfb6c09fa",
   "execution_count": 161
  },
  {
   "cell_type": "code",
   "outputs": [],
   "source": [],
   "metadata": {
    "collapsed": false,
    "ExecuteTime": {
     "end_time": "2024-05-12T00:06:29.982597Z",
     "start_time": "2024-05-12T00:06:29.979743Z"
    }
   },
   "id": "f11488d2e971f744",
   "execution_count": 161
  }
 ],
 "metadata": {
  "kernelspec": {
   "display_name": "Python 3",
   "language": "python",
   "name": "python3"
  },
  "language_info": {
   "codemirror_mode": {
    "name": "ipython",
    "version": 2
   },
   "file_extension": ".py",
   "mimetype": "text/x-python",
   "name": "python",
   "nbconvert_exporter": "python",
   "pygments_lexer": "ipython2",
   "version": "2.7.6"
  }
 },
 "nbformat": 4,
 "nbformat_minor": 5
}
