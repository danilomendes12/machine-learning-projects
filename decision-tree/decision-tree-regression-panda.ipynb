{
 "cells": [
  {
   "cell_type": "code",
   "execution_count": 1,
   "metadata": {
    "ExecuteTime": {
     "end_time": "2024-02-13T23:35:40.457172Z",
     "start_time": "2024-02-13T23:35:40.150127Z"
    }
   },
   "outputs": [
    {
     "data": {
      "text/plain": "             Rooms     Bathroom      Landsize  BuildingArea    YearBuilt  \\\ncount  6196.000000  6196.000000   6196.000000   6196.000000  6196.000000   \nmean      2.931407     1.576340    471.006940    141.568645  1964.081988   \nstd       0.971079     0.711362    897.449881     90.834824    38.105673   \nmin       1.000000     1.000000      0.000000      0.000000  1196.000000   \n25%       2.000000     1.000000    152.000000     91.000000  1940.000000   \n50%       3.000000     1.000000    373.000000    124.000000  1970.000000   \n75%       4.000000     2.000000    628.000000    170.000000  2000.000000   \nmax       8.000000     8.000000  37000.000000   3112.000000  2018.000000   \n\n         Lattitude   Longtitude  \ncount  6196.000000  6196.000000  \nmean    -37.807904   144.990201  \nstd       0.075850     0.099165  \nmin     -38.164920   144.542370  \n25%     -37.855438   144.926198  \n50%     -37.802250   144.995800  \n75%     -37.758200   145.052700  \nmax     -37.457090   145.526350  ",
      "text/html": "<div>\n<style scoped>\n    .dataframe tbody tr th:only-of-type {\n        vertical-align: middle;\n    }\n\n    .dataframe tbody tr th {\n        vertical-align: top;\n    }\n\n    .dataframe thead th {\n        text-align: right;\n    }\n</style>\n<table border=\"1\" class=\"dataframe\">\n  <thead>\n    <tr style=\"text-align: right;\">\n      <th></th>\n      <th>Rooms</th>\n      <th>Bathroom</th>\n      <th>Landsize</th>\n      <th>BuildingArea</th>\n      <th>YearBuilt</th>\n      <th>Lattitude</th>\n      <th>Longtitude</th>\n    </tr>\n  </thead>\n  <tbody>\n    <tr>\n      <th>count</th>\n      <td>6196.000000</td>\n      <td>6196.000000</td>\n      <td>6196.000000</td>\n      <td>6196.000000</td>\n      <td>6196.000000</td>\n      <td>6196.000000</td>\n      <td>6196.000000</td>\n    </tr>\n    <tr>\n      <th>mean</th>\n      <td>2.931407</td>\n      <td>1.576340</td>\n      <td>471.006940</td>\n      <td>141.568645</td>\n      <td>1964.081988</td>\n      <td>-37.807904</td>\n      <td>144.990201</td>\n    </tr>\n    <tr>\n      <th>std</th>\n      <td>0.971079</td>\n      <td>0.711362</td>\n      <td>897.449881</td>\n      <td>90.834824</td>\n      <td>38.105673</td>\n      <td>0.075850</td>\n      <td>0.099165</td>\n    </tr>\n    <tr>\n      <th>min</th>\n      <td>1.000000</td>\n      <td>1.000000</td>\n      <td>0.000000</td>\n      <td>0.000000</td>\n      <td>1196.000000</td>\n      <td>-38.164920</td>\n      <td>144.542370</td>\n    </tr>\n    <tr>\n      <th>25%</th>\n      <td>2.000000</td>\n      <td>1.000000</td>\n      <td>152.000000</td>\n      <td>91.000000</td>\n      <td>1940.000000</td>\n      <td>-37.855438</td>\n      <td>144.926198</td>\n    </tr>\n    <tr>\n      <th>50%</th>\n      <td>3.000000</td>\n      <td>1.000000</td>\n      <td>373.000000</td>\n      <td>124.000000</td>\n      <td>1970.000000</td>\n      <td>-37.802250</td>\n      <td>144.995800</td>\n    </tr>\n    <tr>\n      <th>75%</th>\n      <td>4.000000</td>\n      <td>2.000000</td>\n      <td>628.000000</td>\n      <td>170.000000</td>\n      <td>2000.000000</td>\n      <td>-37.758200</td>\n      <td>145.052700</td>\n    </tr>\n    <tr>\n      <th>max</th>\n      <td>8.000000</td>\n      <td>8.000000</td>\n      <td>37000.000000</td>\n      <td>3112.000000</td>\n      <td>2018.000000</td>\n      <td>-37.457090</td>\n      <td>145.526350</td>\n    </tr>\n  </tbody>\n</table>\n</div>"
     },
     "execution_count": 1,
     "metadata": {},
     "output_type": "execute_result"
    }
   ],
   "source": [
    "import pandas as pd\n",
    "\n",
    "# Load data\n",
    "melbourne_file_path = 'melb_data.csv'\n",
    "melbourne_data = pd.read_csv(melbourne_file_path) \n",
    "\n",
    "# Filter rows with missing price values\n",
    "filtered_melbourne_data = melbourne_data.dropna(axis=0)\n",
    "\n",
    "# Choose target and features\n",
    "pricesColumnData = filtered_melbourne_data.Price\n",
    "melbourne_features = ['Rooms', 'Bathroom', 'Landsize', 'BuildingArea', \n",
    "                        'YearBuilt', 'Lattitude', 'Longtitude']\n",
    "melbourne_features_data = filtered_melbourne_data[melbourne_features]\n",
    "melbourne_features_data.describe()\n"
   ]
  },
  {
   "cell_type": "code",
   "execution_count": 2,
   "metadata": {
    "ExecuteTime": {
     "end_time": "2024-02-13T23:35:40.926428Z",
     "start_time": "2024-02-13T23:35:40.459066Z"
    }
   },
   "outputs": [
    {
     "data": {
      "text/plain": "array([1035000., 1465000., 1600000., 1876000., 1636000.])"
     },
     "execution_count": 2,
     "metadata": {},
     "output_type": "execute_result"
    }
   ],
   "source": [
    "from sklearn.tree import DecisionTreeRegressor\n",
    "\n",
    "# Define model\n",
    "melbourne_model = DecisionTreeRegressor()\n",
    "\n",
    "# Fit model\n",
    "melbourne_model.fit(melbourne_features_data, pricesColumnData)\n",
    "predicted_home_prices = melbourne_model.predict(melbourne_features_data)\n",
    "predicted_home_prices[:5]"
   ]
  },
  {
   "cell_type": "code",
   "execution_count": 3,
   "metadata": {
    "ExecuteTime": {
     "end_time": "2024-02-13T23:35:40.928740Z",
     "start_time": "2024-02-13T23:35:40.926208Z"
    }
   },
   "outputs": [
    {
     "data": {
      "text/plain": "434.71594577146544"
     },
     "execution_count": 3,
     "metadata": {},
     "output_type": "execute_result"
    }
   ],
   "source": [
    "from sklearn.metrics import mean_absolute_error\n",
    "\n",
    "mean_absolute_error(pricesColumnData, predicted_home_prices)"
   ]
  },
  {
   "cell_type": "code",
   "execution_count": 4,
   "metadata": {
    "ExecuteTime": {
     "end_time": "2024-02-13T23:35:40.956267Z",
     "start_time": "2024-02-13T23:35:40.930010Z"
    }
   },
   "outputs": [
    {
     "name": "stdout",
     "output_type": "stream",
     "text": [
      "259838.9354422208\n"
     ]
    }
   ],
   "source": [
    "#dividing data into training data and validation data\n",
    "from sklearn.model_selection import train_test_split\n",
    "\n",
    "# split data into training and validation data, for both features and target\n",
    "# The split is based on a random number generator. Supplying a numeric value to\n",
    "# the random_state argument guarantees we get the same split every time we\n",
    "# run this script.\n",
    "trainingDataColumns, validationDataColumns, trainingDataValues, validationDataValues = train_test_split(melbourne_features_data, \n",
    "                                                                                                        pricesColumnData, random_state = 0)\n",
    "# Define model\n",
    "melbourne_model = DecisionTreeRegressor()\n",
    "# Fit model\n",
    "melbourne_model.fit(trainingDataColumns, trainingDataValues)\n",
    "\n",
    "# get predicted prices on validation data\n",
    "val_predictions = melbourne_model.predict(validationDataColumns)\n",
    "print(mean_absolute_error(validationDataValues, val_predictions))"
   ]
  },
  {
   "cell_type": "code",
   "execution_count": 5,
   "metadata": {
    "ExecuteTime": {
     "end_time": "2024-02-13T23:35:41.017330Z",
     "start_time": "2024-02-13T23:35:40.957875Z"
    }
   },
   "outputs": [
    {
     "name": "stdout",
     "output_type": "stream",
     "text": [
      "Max leaf nodes: 5  \t\t Mean Absolute Error:  347380\n",
      "Max leaf nodes: 50  \t\t Mean Absolute Error:  258171\n",
      "Max leaf nodes: 500  \t\t Mean Absolute Error:  243495\n",
      "Max leaf nodes: 5000  \t\t Mean Absolute Error:  255015\n"
     ]
    }
   ],
   "source": [
    "def get_mean_absolute_error_for(max_leaf_nodes, train_X, val_X, train_y, val_y):\n",
    "    model = DecisionTreeRegressor(max_leaf_nodes=max_leaf_nodes, random_state=0)\n",
    "    model.fit(train_X, train_y)\n",
    "    preds_val = model.predict(val_X)\n",
    "    mae = mean_absolute_error(val_y, preds_val)\n",
    "    return(mae)\n",
    "\n",
    "# compare error with differing values of max_leaf_nodes\n",
    "for max_leaf_nodes in [5, 50, 500, 5000]:\n",
    "    my_mae = get_mean_absolute_error_for(max_leaf_nodes, trainingDataColumns, validationDataColumns, trainingDataValues, validationDataValues)\n",
    "    print(\"Max leaf nodes: %d  \\t\\t Mean Absolute Error:  %d\" %(max_leaf_nodes, my_mae))"
   ]
  }
 ],
 "metadata": {
  "kernelspec": {
   "display_name": "Python 3",
   "language": "python",
   "name": "python3"
  },
  "language_info": {
   "codemirror_mode": {
    "name": "ipython",
    "version": 3
   },
   "file_extension": ".py",
   "mimetype": "text/x-python",
   "name": "python",
   "nbconvert_exporter": "python",
   "pygments_lexer": "ipython3",
   "version": "3.10.9"
  },
  "orig_nbformat": 4
 },
 "nbformat": 4,
 "nbformat_minor": 2
}
